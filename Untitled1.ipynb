{
 "cells": [
  {
   "cell_type": "code",
   "execution_count": 1,
   "id": "e765f9b7-ec7c-4c84-8a9c-d49a92ef1e2d",
   "metadata": {},
   "outputs": [
    {
     "ename": "ModuleNotFoundError",
     "evalue": "No module named 'pytest'",
     "output_type": "error",
     "traceback": [
      "\u001b[0;31m---------------------------------------------------------------------------\u001b[0m",
      "\u001b[0;31mModuleNotFoundError\u001b[0m                       Traceback (most recent call last)",
      "Cell \u001b[0;32mIn[1], line 1\u001b[0m\n\u001b[0;32m----> 1\u001b[0m \u001b[38;5;28;01mimport\u001b[39;00m\u001b[38;5;250m \u001b[39m\u001b[38;5;21;01mpytest\u001b[39;00m\n",
      "\u001b[0;31mModuleNotFoundError\u001b[0m: No module named 'pytest'"
     ]
    }
   ],
   "source": [
    "import pytest\n"
   ]
  },
  {
   "cell_type": "code",
   "execution_count": 2,
   "id": "86e97ef6-8544-41d3-b01a-fdddd8ba514b",
   "metadata": {},
   "outputs": [
    {
     "name": "stdout",
     "output_type": "stream",
     "text": [
      "Requirement already satisfied: pytest in /opt/anaconda3/lib/python3.11/site-packages (7.4.0)\n",
      "Requirement already satisfied: iniconfig in /opt/anaconda3/lib/python3.11/site-packages (from pytest) (1.1.1)\n",
      "Requirement already satisfied: packaging in /opt/anaconda3/lib/python3.11/site-packages (from pytest) (24.2)\n",
      "Requirement already satisfied: pluggy<2.0,>=0.12 in /opt/anaconda3/lib/python3.11/site-packages (from pytest) (1.5.0)\n"
     ]
    }
   ],
   "source": [
    "!pip install pytest"
   ]
  },
  {
   "cell_type": "code",
   "execution_count": 3,
   "id": "df772939-0d1f-4622-8be9-7f8dc2737ee1",
   "metadata": {},
   "outputs": [
    {
     "name": "stdout",
     "output_type": "stream",
     "text": [
      "/opt/anaconda3/bin/python\n"
     ]
    }
   ],
   "source": [
    "!which python"
   ]
  },
  {
   "cell_type": "code",
   "execution_count": 4,
   "id": "da963944-45c2-41f2-b09f-ff9291f272e6",
   "metadata": {},
   "outputs": [
    {
     "name": "stdout",
     "output_type": "stream",
     "text": [
      "Available kernels:\n",
      "  python3    /opt/homebrew/Cellar/jupyterlab/4.3.5/libexec/lib/python3.13/site-packages/ipykernel/resources\n"
     ]
    }
   ],
   "source": [
    "!jupyter kernelspec list\n"
   ]
  },
  {
   "cell_type": "code",
   "execution_count": 5,
   "id": "6cc68410-e4e8-4e3e-a681-10075bb7cca1",
   "metadata": {},
   "outputs": [
    {
     "name": "stdout",
     "output_type": "stream",
     "text": [
      "Requirement already satisfied: pytest in /opt/anaconda3/lib/python3.11/site-packages (7.4.0)\n",
      "Requirement already satisfied: iniconfig in /opt/anaconda3/lib/python3.11/site-packages (from pytest) (1.1.1)\n",
      "Requirement already satisfied: packaging in /opt/anaconda3/lib/python3.11/site-packages (from pytest) (24.2)\n",
      "Requirement already satisfied: pluggy<2.0,>=0.12 in /opt/anaconda3/lib/python3.11/site-packages (from pytest) (1.5.0)\n"
     ]
    }
   ],
   "source": [
    "!pip install pytest --user\n"
   ]
  },
  {
   "cell_type": "code",
   "execution_count": 6,
   "id": "6d828d61-aa39-47f4-bfab-4d132c3e4358",
   "metadata": {},
   "outputs": [
    {
     "ename": "ModuleNotFoundError",
     "evalue": "No module named 'pytest'",
     "output_type": "error",
     "traceback": [
      "\u001b[0;31m---------------------------------------------------------------------------\u001b[0m",
      "\u001b[0;31mModuleNotFoundError\u001b[0m                       Traceback (most recent call last)",
      "Cell \u001b[0;32mIn[6], line 1\u001b[0m\n\u001b[0;32m----> 1\u001b[0m \u001b[38;5;28;01mimport\u001b[39;00m\u001b[38;5;250m \u001b[39m\u001b[38;5;21;01mpytest\u001b[39;00m\n",
      "\u001b[0;31mModuleNotFoundError\u001b[0m: No module named 'pytest'"
     ]
    }
   ],
   "source": [
    "import pytest\n"
   ]
  },
  {
   "cell_type": "code",
   "execution_count": 7,
   "id": "1c8dcc09-8f3d-4411-bed9-57bf3b2fff0c",
   "metadata": {},
   "outputs": [
    {
     "name": "stdout",
     "output_type": "stream",
     "text": [
      "/opt/homebrew/Cellar/jupyterlab/4.3.5/libexec/bin/python\n",
      "3.13.2 (main, Feb  4 2025, 14:51:09) [Clang 16.0.0 (clang-1600.0.26.6)]\n"
     ]
    }
   ],
   "source": [
    "import sys\n",
    "print(sys.executable)\n",
    "print(sys.version)\n"
   ]
  },
  {
   "cell_type": "code",
   "execution_count": 8,
   "id": "53560fcd-ee85-4a21-94c2-32ff62086cd9",
   "metadata": {},
   "outputs": [
    {
     "name": "stdout",
     "output_type": "stream",
     "text": [
      "Requirement already satisfied: pytest in /opt/anaconda3/lib/python3.11/site-packages (7.4.0)\n",
      "Requirement already satisfied: iniconfig in /opt/anaconda3/lib/python3.11/site-packages (from pytest) (1.1.1)\n",
      "Requirement already satisfied: packaging in /opt/anaconda3/lib/python3.11/site-packages (from pytest) (24.2)\n",
      "Requirement already satisfied: pluggy<2.0,>=0.12 in /opt/anaconda3/lib/python3.11/site-packages (from pytest) (1.5.0)\n"
     ]
    }
   ],
   "source": [
    "!python -m pip install pytest --user\n"
   ]
  },
  {
   "cell_type": "code",
   "execution_count": 1,
   "id": "1108cae1-6c4d-43d5-a359-f00dba96ee9e",
   "metadata": {},
   "outputs": [
    {
     "ename": "ModuleNotFoundError",
     "evalue": "No module named 'pytest'",
     "output_type": "error",
     "traceback": [
      "\u001b[0;31m---------------------------------------------------------------------------\u001b[0m",
      "\u001b[0;31mModuleNotFoundError\u001b[0m                       Traceback (most recent call last)",
      "Cell \u001b[0;32mIn[1], line 1\u001b[0m\n\u001b[0;32m----> 1\u001b[0m \u001b[38;5;28;01mimport\u001b[39;00m\u001b[38;5;250m \u001b[39m\u001b[38;5;21;01mpytest\u001b[39;00m\n",
      "\u001b[0;31mModuleNotFoundError\u001b[0m: No module named 'pytest'"
     ]
    }
   ],
   "source": [
    "import pytest\n"
   ]
  },
  {
   "cell_type": "code",
   "execution_count": null,
   "id": "0c1a1c8f-a642-462f-a665-807be5cfe0a8",
   "metadata": {},
   "outputs": [],
   "source": []
  }
 ],
 "metadata": {
  "kernelspec": {
   "display_name": "Python 3 (ipykernel)",
   "language": "python",
   "name": "python3"
  },
  "language_info": {
   "codemirror_mode": {
    "name": "ipython",
    "version": 3
   },
   "file_extension": ".py",
   "mimetype": "text/x-python",
   "name": "python",
   "nbconvert_exporter": "python",
   "pygments_lexer": "ipython3",
   "version": "3.13.2"
  }
 },
 "nbformat": 4,
 "nbformat_minor": 5
}
